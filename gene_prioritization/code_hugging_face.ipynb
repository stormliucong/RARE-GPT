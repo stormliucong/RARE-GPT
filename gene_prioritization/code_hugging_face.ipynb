{
 "cells": [
  {
   "cell_type": "code",
   "execution_count": 3,
   "metadata": {},
   "outputs": [],
   "source": [
    "import json\n",
    "import requests\n",
    "# read json file\n",
    "with open('./api_key.json') as f:\n",
    "  data = json.load(f)\n",
    "  API_TOKEN = data['huggingface_token']\n",
    "  \n",
    "headers = {\"Authorization\": f\"Bearer {API_TOKEN}\"}\n",
    "def query(payload):\n",
    "    data = json.dumps(payload)\n",
    "    response = requests.request(\"POST\", API_URL, headers=headers, data=data)\n",
    "    return json.loads(response.content.decode(\"utf-8\"))"
   ]
  },
  {
   "cell_type": "code",
   "execution_count": 25,
   "metadata": {},
   "outputs": [],
   "source": [
    "content = \"Lateral ventricle dilatation,Amblyopia,Proptosis,Constipation,Exotropia,Intellectual disability, severe,Hyperplasia of the maxilla,Seizure,Full cheeks,Febrile seizure (within the age range of 3 months to 6 years),Short philtrum,Spastic diplegia,Sleep disturbance,Thick vermilion border,Hypoplasia of the corpus callosum,Wide mouth,Coarse facial features,Widely spaced teeth,Micrognathia,Anteverted nares\"\n",
    "x = 5"
   ]
  },
  {
   "cell_type": "code",
   "execution_count": 26,
   "metadata": {},
   "outputs": [],
   "source": [
    "# GPT-2 Does not work\n",
    "API_URL = \"https://api-inference.huggingface.co/models/gpt2\"\n",
    "input = f\"Patient clinical features including {content}. The genetic diagnosis is\"\n",
    "data = query({\"inputs\": input,\"return_full_text\": \"False\"})\n",
    "response = data[0]['generated_text']\n",
    "prefix_length = len(input)\n",
    "response = response[prefix_length:]"
   ]
  },
  {
   "cell_type": "code",
   "execution_count": 27,
   "metadata": {},
   "outputs": [
    {
     "data": {
      "text/plain": [
       "' based'"
      ]
     },
     "execution_count": 27,
     "metadata": {},
     "output_type": "execute_result"
    }
   ],
   "source": [
    "response"
   ]
  },
  {
   "cell_type": "code",
   "execution_count": null,
   "metadata": {},
   "outputs": [],
   "source": []
  }
 ],
 "metadata": {
  "kernelspec": {
   "display_name": ".openai",
   "language": "python",
   "name": "python3"
  },
  "language_info": {
   "codemirror_mode": {
    "name": "ipython",
    "version": 3
   },
   "file_extension": ".py",
   "mimetype": "text/x-python",
   "name": "python",
   "nbconvert_exporter": "python",
   "pygments_lexer": "ipython3",
   "version": "3.10.11"
  },
  "orig_nbformat": 4
 },
 "nbformat": 4,
 "nbformat_minor": 2
}
