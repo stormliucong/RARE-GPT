{
 "cells": [
  {
   "cell_type": "code",
   "execution_count": 8,
   "metadata": {},
   "outputs": [],
   "source": [
    "import pandas as pd\n",
    "import re\n",
    "import os\n",
    "import logging\n",
    "logging.basicConfig(level=logging.INFO)\n",
    "import json\n",
    "import requests"
   ]
  },
  {
   "cell_type": "code",
   "execution_count": 9,
   "metadata": {},
   "outputs": [],
   "source": [
    "def get_hgnc_complete_list(symbol_json_file='./hgnc_complete_set_2020-10-01.json'):\n",
    "  # read json from url \n",
    "  if not os.path.exists(symbol_json_file):\n",
    "    logging.info('Downloading HGNC complete list')\n",
    "    url = \"https://ftp.ebi.ac.uk/pub/databases/genenames/hgnc/archive/quarterly/json/hgnc_complete_set_2020-10-01.json\"\n",
    "    gene_list_json = requests.get(url).json()\n",
    "    symbol_list = [doc['symbol'] for doc in gene_list_json['response']['docs']]\n",
    "    logging.info('HGNC complete list downloaded')\n",
    "    logging.info('length of HGNC complete list: {}'.format(len(symbol_list)))\n",
    "    with open(symbol_json_file, 'w') as f:\n",
    "      json.dump(symbol_list, f)\n",
    "  else:\n",
    "    with open(symbol_json_file, 'r') as f:\n",
    "      logging.info('Reading HGNC complete list from local file')\n",
    "      symbol_list = json.load(f)\n",
    "      logging.info('length of HGNC complete list: {}'.format(len(symbol_list)))\n",
    "  return symbol_list\n",
    "\n",
    "def get_gene_list(gpt_response, hgnc_complete_list):\n",
    "  '''\n",
    "  Try to grep a GENE SYMBOL (using regular expression)\n",
    "  [A-Z0-9]+\n",
    "  '''\n",
    "  logging.debug('gpt_response: {}'.format(gpt_response))\n",
    "  pattern = r'[ ,.!?\\n]+'\n",
    "  tokens = re.split(pattern, gpt_response)\n",
    "  tokens = [token.strip() for token in tokens if len(token) > 1]\n",
    "  logging.debug('tokens: {}'.format(tokens))\n",
    "  overlapped_genes = set(tokens) & set(hgnc_complete_list)\n",
    "  logging.debug('overlapped_genes: {}'.format(overlapped_genes))\n",
    "  \n",
    "  return overlapped_genes\n",
    "\n",
    "def get_gpt_response(file):\n",
    "  with open(file, 'r') as f:\n",
    "    text = f.read() \n",
    "    return text\n",
    "  \n",
    "def update_count_dict(overlapped_genes, count_dict):\n",
    "    for gene in overlapped_genes:\n",
    "        if gene in count_dict:\n",
    "            count_dict[gene] += 1\n",
    "        else:\n",
    "            count_dict[gene] = 1\n",
    "    return count_dict"
   ]
  },
  {
   "cell_type": "code",
   "execution_count": 14,
   "metadata": {},
   "outputs": [
    {
     "name": "stderr",
     "output_type": "stream",
     "text": [
      "INFO:root:Reading HGNC complete list from local file\n",
      "INFO:root:length of HGNC complete list: 43984\n"
     ]
    }
   ],
   "source": [
    "# create a count dictionary\n",
    "\n",
    "output_dir = './Experiment_003subset'\n",
    "hgnc_complete_list = get_hgnc_complete_list()\n",
    "count_top10_dict = {}\n",
    "count_top50_dict = {}\n",
    "count_true_gene_dict = {}\n",
    "for file in os.listdir(output_dir):\n",
    "    m = re.match(r'(.+?).gpt.response*', file)\n",
    "    sample_id, true_gene, top_n, prompt, gpt_version, input_type, iteration = m.group(1).split('__')\n",
    "    count_true_gene_dict = update_count_dict([true_gene], count_true_gene_dict)\n",
    "    gpt_response = get_gpt_response(os.path.join(output_dir,file))\n",
    "    overlapped_genes = get_gene_list(gpt_response, hgnc_complete_list)\n",
    "    if '__10__' in file:\n",
    "        count_top10_dict = update_count_dict(overlapped_genes, count_top10_dict)\n",
    "    else:\n",
    "        count_top50_dict = update_count_dict(overlapped_genes, count_top50_dict)"
   ]
  },
  {
   "cell_type": "code",
   "execution_count": null,
   "metadata": {},
   "outputs": [],
   "source": []
  },
  {
   "cell_type": "code",
   "execution_count": 19,
   "metadata": {},
   "outputs": [],
   "source": [
    "top10_df = pd.DataFrame.from_dict(count_top10_dict, orient='index',columns=['top10_count']).reset_index().rename(columns={'index':'gene'})\n",
    "top50_df = pd.DataFrame.from_dict(count_top50_dict, orient='index',columns=['top50_count']).reset_index().rename(columns={'index':'gene'})\n",
    "true_df = pd.DataFrame.from_dict(count_true_gene_dict, orient='index',columns=['true_gene_count']).reset_index().rename(columns={'index':'gene'})\n",
    "merged_df = top50_df.merge(top10_df, on='gene', how='outer').merge(true_df, on='gene', how='outer').fillna(0)"
   ]
  },
  {
   "cell_type": "code",
   "execution_count": 22,
   "metadata": {},
   "outputs": [],
   "source": [
    "merged_df.sort_values(by=['top50_count'], ascending=False).to_csv('count_of_gpt_prediction.csv', index=False)"
   ]
  },
  {
   "cell_type": "code",
   "execution_count": null,
   "metadata": {},
   "outputs": [],
   "source": []
  }
 ],
 "metadata": {
  "kernelspec": {
   "display_name": ".openai",
   "language": "python",
   "name": "python3"
  },
  "language_info": {
   "codemirror_mode": {
    "name": "ipython",
    "version": 3
   },
   "file_extension": ".py",
   "mimetype": "text/x-python",
   "name": "python",
   "nbconvert_exporter": "python",
   "pygments_lexer": "ipython3",
   "version": "3.10.11"
  },
  "orig_nbformat": 4
 },
 "nbformat": 4,
 "nbformat_minor": 2
}
