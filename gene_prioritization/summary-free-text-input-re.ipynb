{
 "cells": [
  {
   "cell_type": "code",
   "execution_count": 1,
   "metadata": {},
   "outputs": [],
   "source": [
    "import pandas as pd\n",
    "import numpy as np\n",
    "import math\n",
    "\n",
    "# Read in the data\n",
    "df = pd.read_csv('./Data/free_text_input/Results/GPT4_top_prediction_RE.csv')\n",
    "# split columns into multiple columns\n",
    "df['dataset'] = df['file_path']"
   ]
  },
  {
   "cell_type": "code",
   "execution_count": 2,
   "metadata": {},
   "outputs": [
    {
     "name": "stdout",
     "output_type": "stream",
     "text": [
      "102 out of 125 predictions made in top 5 (81.6%)\n",
      "0 out of 102 predictions correct in top 5 (0.0%)\n",
      "102 out of 125 predictions made in top 10 (81.6%)\n",
      "4 out of 102 predictions correct in top 10 (3.92%)\n",
      "78 out of 125 predictions made in top 50 (62.4%)\n",
      "5 out of 78 predictions correct in top 50 (6.41%)\n"
     ]
    }
   ],
   "source": [
    "# format float to 2 decimal places\n",
    "w = df.shape[0]\n",
    "x = df[['predict_correct_in_top_5']].values.sum()\n",
    "y = df[['predict_made_in_top_10']].values.sum()\n",
    "print('{y} out of {w} predictions made in top 5 ({z}%)'.format(y=y, w=w, z=np.round(y/w,4)*100))\n",
    "print('{x} out of {y} predictions correct in top 5 ({z}%)'.format(x=x, y=y, z=np.round(x/y,4)*100))\n",
    "\n",
    "x = df[['predict_correct_in_top_10']].values.sum()\n",
    "y = df[['predict_made_in_top_10']].values.sum()\n",
    "print('{y} out of {w} predictions made in top 10 ({z}%)'.format(y=y, w=w, z=np.round(y/w,4)*100))\n",
    "print('{x} out of {y} predictions correct in top 10 ({z}%)'.format(x=x, y=y, z=np.round(x/y,4)*100))\n",
    "\n",
    "x = df[['predict_correct_in_top_50']].values.sum()\n",
    "y = df[['predict_made_in_top_50']].values.sum()\n",
    "print('{y} out of {w} predictions made in top 50 ({z}%)'.format(y=y, w=w, z=np.round(y/w,4)*100))\n",
    "print('{x} out of {y} predictions correct in top 50 ({z}%)'.format(x=x, y=y, z=np.round(x/y,4)*100))\n"
   ]
  },
  {
   "cell_type": "code",
   "execution_count": 52,
   "metadata": {},
   "outputs": [],
   "source": [
    "# This table is generated using ChatGPT-3"
   ]
  },
  {
   "attachments": {},
   "cell_type": "markdown",
   "metadata": {},
   "source": [
    "| Dataset | Top 5        |              | Top 10       |              | Top 50      |              |\n",
    "| ------- | ------------ | ------------ | ------------ | ------------ | ----------- | ------------ |\n",
    "|         | Predictions  | Correct      | Predictions  | Correct      | Predictions | Correct      |\n",
    "| PMID    | 102 (81.6%)  | 0 (0.0%)     | 102 (81.6%)  | 4 (3.92%)    | 78 (62.4%)  | 5 (6.41%)    |\n"
   ]
  },
  {
   "cell_type": "markdown",
   "metadata": {},
   "source": []
  }
 ],
 "metadata": {
  "kernelspec": {
   "display_name": "openai",
   "language": "python",
   "name": "python3"
  },
  "language_info": {
   "codemirror_mode": {
    "name": "ipython",
    "version": 3
   },
   "file_extension": ".py",
   "mimetype": "text/x-python",
   "name": "python",
   "nbconvert_exporter": "python",
   "pygments_lexer": "ipython3",
   "version": "3.10.11"
  },
  "orig_nbformat": 4
 },
 "nbformat": 4,
 "nbformat_minor": 2
}
