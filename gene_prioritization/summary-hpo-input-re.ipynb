{
 "cells": [
  {
   "cell_type": "code",
   "execution_count": 5,
   "metadata": {},
   "outputs": [],
   "source": [
    "import pandas as pd\n",
    "import numpy as np\n",
    "import math\n",
    "\n",
    "# Read in the data\n",
    "df = pd.read_csv('./Data/HPO_input/Results/GPT4_top_prediction_RE.csv')\n",
    "# split columns into multiple columns\n",
    "df['dataset'] = df['file_path'].str.split('/', expand=True)[5]"
   ]
  },
  {
   "cell_type": "code",
   "execution_count": 6,
   "metadata": {},
   "outputs": [
    {
     "name": "stdout",
     "output_type": "stream",
     "text": [
      "219 out of 276 predictions made in top 5 (79.35%)\n",
      "4 out of 219 predictions correct in top 5 (1.83%)\n",
      "219 out of 276 predictions made in top 10 (79.35%)\n",
      "16 out of 219 predictions correct in top 10 (7.31%)\n",
      "204 out of 276 predictions made in top 50 (73.91%)\n",
      "21 out of 204 predictions correct in top 50 (10.290000000000001%)\n"
     ]
    }
   ],
   "source": [
    "# format float to 2 decimal places\n",
    "w = df.shape[0]\n",
    "x = df[['predict_correct_in_top_5']].values.sum()\n",
    "y = df[['predict_made_in_top_10']].values.sum()\n",
    "print('{y} out of {w} predictions made in top 5 ({z}%)'.format(y=y, w=w, z=np.round(y/w,4)*100))\n",
    "print('{x} out of {y} predictions correct in top 5 ({z}%)'.format(x=x, y=y, z=np.round(x/y,4)*100))\n",
    "\n",
    "x = df[['predict_correct_in_top_10']].values.sum()\n",
    "y = df[['predict_made_in_top_10']].values.sum()\n",
    "print('{y} out of {w} predictions made in top 10 ({z}%)'.format(y=y, w=w, z=np.round(y/w,4)*100))\n",
    "print('{x} out of {y} predictions correct in top 10 ({z}%)'.format(x=x, y=y, z=np.round(x/y,4)*100))\n",
    "\n",
    "x = df[['predict_correct_in_top_50']].values.sum()\n",
    "y = df[['predict_made_in_top_50']].values.sum()\n",
    "print('{y} out of {w} predictions made in top 50 ({z}%)'.format(y=y, w=w, z=np.round(y/w,4)*100))\n",
    "print('{x} out of {y} predictions correct in top 50 ({z}%)'.format(x=x, y=y, z=np.round(x/y,4)*100))\n"
   ]
  },
  {
   "cell_type": "code",
   "execution_count": 41,
   "metadata": {},
   "outputs": [
    {
     "name": "stdout",
     "output_type": "stream",
     "text": [
      "ColumbiaU\n",
      "27 out of 27 predictions made in top 5 (100.0%)\n",
      "6 out of 27 predictions correct in top 5 (22.220000000000002%)\n",
      "27 out of 27 predictions made in top 10 (100.0%)\n",
      "7 out of 27 predictions correct in top 10 (25.929999999999996%)\n",
      "22 out of 27 predictions made in top 50 (81.47999999999999%)\n",
      "4 out of 22 predictions correct in top 50 (18.18%)\n",
      "\n",
      "CSH\n",
      "70 out of 72 predictions made in top 5 (97.22%)\n",
      "12 out of 70 predictions correct in top 5 (17.14%)\n",
      "63 out of 72 predictions made in top 10 (87.5%)\n",
      "13 out of 63 predictions correct in top 10 (20.630000000000003%)\n",
      "49 out of 72 predictions made in top 50 (68.06%)\n",
      "10 out of 49 predictions correct in top 50 (20.41%)\n",
      "\n",
      "AJHG\n",
      "74 out of 78 predictions made in top 5 (94.87%)\n",
      "0 out of 74 predictions correct in top 5 (0.0%)\n",
      "71 out of 78 predictions made in top 10 (91.03%)\n",
      "0 out of 71 predictions correct in top 10 (0.0%)\n",
      "51 out of 78 predictions made in top 50 (65.38000000000001%)\n",
      "1 out of 51 predictions correct in top 50 (1.96%)\n",
      "\n",
      "DGD\n",
      "82 out of 85 predictions made in top 5 (96.47%)\n",
      "10 out of 82 predictions correct in top 5 (12.2%)\n",
      "81 out of 85 predictions made in top 10 (95.28999999999999%)\n",
      "14 out of 81 predictions correct in top 10 (17.28%)\n",
      "62 out of 85 predictions made in top 50 (72.94%)\n",
      "6 out of 62 predictions correct in top 50 (9.68%)\n",
      "\n",
      "TAF1\n",
      "8 out of 14 predictions made in top 5 (57.14%)\n",
      "0 out of 8 predictions correct in top 5 (0.0%)\n",
      "11 out of 14 predictions made in top 10 (78.57%)\n",
      "0 out of 11 predictions correct in top 10 (0.0%)\n",
      "11 out of 14 predictions made in top 50 (78.57%)\n",
      "0 out of 11 predictions correct in top 50 (0.0%)\n",
      "\n"
     ]
    }
   ],
   "source": [
    "# subset df by dataset\n",
    "dataset_list = df['dataset'].unique()\n",
    "for dataset in dataset_list:\n",
    "    print(dataset)\n",
    "    df_subset = df[df['dataset']==dataset]\n",
    "    w = df_subset.shape[0]\n",
    "    x = df_subset[['predict_correct_in_top_5']].values.sum()\n",
    "    y = df_subset[['predict_made_in_top_5']].values.sum()\n",
    "    print('{y} out of {w} predictions made in top 5 ({z}%)'.format(y=y, w=w, z=np.round(y/w,4)*100))\n",
    "    print('{x} out of {y} predictions correct in top 5 ({z}%)'.format(x=x, y=y, z=np.round(x/y,4)*100))\n",
    "\n",
    "    x = df_subset[['predict_correct_in_top_10']].values.sum()\n",
    "    y = df_subset[['predict_made_in_top_10']].values.sum()\n",
    "    print('{y} out of {w} predictions made in top 10 ({z}%)'.format(y=y, w=w, z=np.round(y/w,4)*100))\n",
    "    print('{x} out of {y} predictions correct in top 10 ({z}%)'.format(x=x, y=y, z=np.round(x/y,4)*100))\n",
    "\n",
    "    x = df_subset[['predict_correct_in_top_50']].values.sum()\n",
    "    y = df_subset[['predict_made_in_top_50']].values.sum()\n",
    "    print('{y} out of {w} predictions made in top 50 ({z}%)'.format(y=y, w=w, z=np.round(y/w,4)*100))\n",
    "    print('{x} out of {y} predictions correct in top 50 ({z}%)'.format(x=x, y=y, z=np.round(x/y,4)*100))\n",
    "    print('')\n"
   ]
  },
  {
   "cell_type": "code",
   "execution_count": 51,
   "metadata": {},
   "outputs": [
    {
     "name": "stdout",
     "output_type": "stream",
     "text": [
      "Probability of selecting the correct gene in top 5: 0.01666666666666483%\n",
      "Probability of selecting the correct gene in top 10: 0.033333333333340764%\n",
      "Probability of selecting the correct gene in top 50: 0.16666666666667052%\n"
     ]
    }
   ],
   "source": [
    "def probability_of_picking_specific_card(total_cards, specific_cards, draws):\n",
    "    probability_not_picking = 1\n",
    "\n",
    "    for i in range(draws):\n",
    "        non_specific_cards = total_cards - specific_cards - i\n",
    "        remaining_cards = total_cards - i\n",
    "        probability_not_picking *= non_specific_cards / remaining_cards\n",
    "\n",
    "    probability_picking = 1 - probability_not_picking\n",
    "    return probability_picking\n",
    "# calculate the probability of select the correct gene in top 5\n",
    "\n",
    "total_cards = 30000\n",
    "specific_cards = 1\n",
    "# what is the probability of selecting the correct gene in top 5\n",
    "draws = 5\n",
    "probability = probability_of_picking_specific_card(total_cards, specific_cards, draws)\n",
    "print('Probability of selecting the correct gene in top 5: {}%'.format(probability*100))\n",
    "draws = 10\n",
    "probability = probability_of_picking_specific_card(total_cards, specific_cards, draws)\n",
    "print('Probability of selecting the correct gene in top 10: {}%'.format(probability*100))\n",
    "draws = 50\n",
    "probability = probability_of_picking_specific_card(total_cards, specific_cards, draws)\n",
    "print('Probability of selecting the correct gene in top 50: {}%'.format(probability*100))"
   ]
  },
  {
   "cell_type": "code",
   "execution_count": 52,
   "metadata": {},
   "outputs": [],
   "source": [
    "# This table is generated using ChatGPT-3"
   ]
  },
  {
   "attachments": {},
   "cell_type": "markdown",
   "metadata": {},
   "source": [
    "| Dataset   | Top 5          |                | Top 10         |                | Top 50          |                |\n",
    "|-----------|----------------|-------------- |----------------|-------------- |-----------------|-------------- |\n",
    "|           | Predictions (%)| Correct (%)   | Predictions (%)| Correct (%)   | Predictions (%)| Correct (%)   |\n",
    "| ColumbiaU | 27 (100.00%)   | 6 (22.22%)    | 27 (100.00%)   | 7 (25.93%)    | 22 (81.48%)     | 4 (18.18%)    |\n",
    "| CSH       | 70 (97.22%)    | 12 (17.14%)   | 63 (87.50%)    | 13 (20.63%)   | 49 (68.06%)     | 10 (20.41%)   |\n",
    "| AJHG      | 74 (94.87%)    | 0 (0.00%)     | 71 (91.03%)    | 0 (0.00%)     | 51 (65.38%)     | 1 (1.96%)     |\n",
    "| DGD       | 82 (96.47%)    | 10 (12.20%)   | 81 (95.29%)    | 14 (17.28%)   | 62 (72.94%)     | 6 (9.68%)     |\n",
    "| TAF1      | 8 (57.14%)     | 0 (0.00%)     | 11 (78.57%)    | 0 (0.00%)     | 11 (78.57%)     | 0 (0.00%)     |\n"
   ]
  },
  {
   "cell_type": "markdown",
   "metadata": {},
   "source": []
  }
 ],
 "metadata": {
  "kernelspec": {
   "display_name": "openai",
   "language": "python",
   "name": "python3"
  },
  "language_info": {
   "codemirror_mode": {
    "name": "ipython",
    "version": 3
   },
   "file_extension": ".py",
   "mimetype": "text/x-python",
   "name": "python",
   "nbconvert_exporter": "python",
   "pygments_lexer": "ipython3",
   "version": "3.10.11"
  },
  "orig_nbformat": 4
 },
 "nbformat": 4,
 "nbformat_minor": 2
}
